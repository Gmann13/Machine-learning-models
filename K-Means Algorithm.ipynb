{
 "cells": [
  {
   "cell_type": "code",
   "execution_count": 20,
   "id": "cc19dd01",
   "metadata": {},
   "outputs": [],
   "source": [
    "import numpy as np\n",
    "import matplotlib.pyplot as plt\n",
    "from sklearn.cluster import KMeans\n",
    "    "
   ]
  },
  {
   "cell_type": "markdown",
   "id": "2d1152bf",
   "metadata": {},
   "source": [
    "Generate data - Two means"
   ]
  },
  {
   "cell_type": "code",
   "execution_count": 23,
   "id": "2d629908",
   "metadata": {},
   "outputs": [],
   "source": [
    "mean1 = [np.random.randint(200),np.random.randint(200)]\n",
    "mean2 = [np.random.randint(200),np.random.randint(200)]\n"
   ]
  },
  {
   "cell_type": "markdown",
   "id": "5bb542dd",
   "metadata": {},
   "source": [
    "Make a diagonal variance"
   ]
  },
  {
   "cell_type": "code",
   "execution_count": 24,
   "id": "95198e8a",
   "metadata": {},
   "outputs": [
    {
     "data": {
      "text/plain": [
       "<function matplotlib.pyplot.show(close=None, block=None)>"
      ]
     },
     "execution_count": 24,
     "metadata": {},
     "output_type": "execute_result"
    },
    {
     "data": {
      "image/png": "[encoded data removed]",
      "text/plain": [
       "<Figure size 432x288 with 1 Axes>"
      ]
     },
     "metadata": {
      "needs_background": "light"
     },
     "output_type": "display_data"
    }
   ],
   "source": [
    "cov = [[100,0],[0,100]]\n",
    "\n",
    "x1,y1 = np.random.multivariate_normal(mean1,cov,100).T\n",
    "x2,y2 = np.random.multivariate_normal(mean1,cov,100).T\n",
    "\n",
    "x=np.append(x1,x2)\n",
    "y=np.append(y1,y2)\n",
    "\n",
    "plt.plot(x,y,'x')\n",
    "plt.axis('equal')\n",
    "plt.show"
   ]
  },
  {
   "cell_type": "code",
   "execution_count": 25,
   "id": "6c93ca92",
   "metadata": {},
   "outputs": [],
   "source": [
    "X = np.array(list(zip(x,y)))"
   ]
  },
  {
   "cell_type": "markdown",
   "id": "28711360",
   "metadata": {},
   "source": [
    "Make K-Means Model"
   ]
  },
  {
   "cell_type": "code",
   "execution_count": 26,
   "id": "cb08351f",
   "metadata": {},
   "outputs": [],
   "source": [
    "kmeans = KMeans(n_clusters = 4)"
   ]
  },
  {
   "cell_type": "markdown",
   "id": "88a12a10",
   "metadata": {},
   "source": [
    "Fit the model to the data"
   ]
  },
  {
   "cell_type": "code",
   "execution_count": 27,
   "id": "41c75069",
   "metadata": {},
   "outputs": [
    {
     "data": {
      "text/plain": [
       "KMeans(n_clusters=4)"
      ]
     },
     "execution_count": 27,
     "metadata": {},
     "output_type": "execute_result"
    }
   ],
   "source": [
    "kmeans.fit(X)"
   ]
  },
  {
   "cell_type": "code",
   "execution_count": 28,
   "id": "b4932c6c",
   "metadata": {},
   "outputs": [
    {
     "name": "stdout",
     "output_type": "stream",
     "text": [
      "[1 1 2 1 3 1 1 1 3 1 1 2 0 2 3 2 1 1 2 2 1 2 2 2 3 3 2 1 1 2 3 0 0 1 0 3 0\n",
      " 1 2 1 0 1 1 1 3 1 2 1 1 1 0 0 3 3 2 3 0 1 2 3 0 3 3 1 3 2 1 3 0 2 1 2 0 1\n",
      " 1 2 1 3 1 2 3 1 3 1 2 1 1 0 0 3 1 2 2 2 0 1 1 3 0 1 3 3 0 0 0 2 0 0 3 3 0\n",
      " 0 2 2 0 2 0 1 1 0 0 1 2 2 0 2 2 0 1 0 2 0 1 0 3 2 0 2 0 1 0 2 3 3 0 0 2 1\n",
      " 1 1 2 3 3 1 3 2 3 0 2 2 1 2 2 2 2 0 1 2 1 0 3 2 3 2 0 2 1 1 0 1 3 0 2 0 3\n",
      " 2 0 1 3 2 2 2 0 0 1 1 1 3 1 0]\n",
      "[[ 33.4873425  115.47752192]\n",
      " [ 29.84552391 129.21812806]\n",
      " [ 48.15542513 126.09620058]\n",
      " [ 40.94313485 141.91964975]]\n"
     ]
    }
   ],
   "source": [
    "centroids = kmeans.cluster_centers_\n",
    "labels = kmeans.labels_\n",
    "\n",
    "print(labels)\n",
    "print(centroids)"
   ]
  },
  {
   "cell_type": "code",
   "execution_count": 29,
   "id": "51af032e",
   "metadata": {},
   "outputs": [
    {
     "data": {
      "text/plain": [
       "<function matplotlib.pyplot.show(close=None, block=None)>"
      ]
     },
     "execution_count": 29,
     "metadata": {},
     "output_type": "execute_result"
    },
    {
     "data": {
      "image/png": "[encoded data removed]",
      "text/plain": [
       "<Figure size 432x288 with 1 Axes>"
      ]
     },
     "metadata": {
      "needs_background": "light"
     },
     "output_type": "display_data"
    }
   ],
   "source": [
    "colors = [\"g.\",\"r.\",\"b.\",\"y.\"]\n",
    "for i in range(len(X)):\n",
    "    plt.plot(X[i][0],X[i][1],colors[labels[i]],markersize = 10)\n",
    "    \n",
    "plt.scatter(centroids[:,0],centroids[:,1],marker=\"X\",s=150,zorder=10)\n",
    "\n",
    "plt.show"
   ]
  },
  {
   "cell_type": "code",
   "execution_count": 30,
   "id": "6b8c2d0e",
   "metadata": {},
   "outputs": [
    {
     "name": "stdout",
     "output_type": "stream",
     "text": [
      "[[ 33.4873425  115.47752192]\n",
      " [ 29.84552391 129.21812806]\n",
      " [ 48.15542513 126.09620058]\n",
      " [ 40.94313485 141.91964975]]\n",
      "[38, 127] [61, 181]\n"
     ]
    }
   ],
   "source": [
    "print(centroids)\n",
    "print(mean1,mean2)"
   ]
  },
  {
   "cell_type": "code",
   "execution_count": null,
   "id": "ced1d27c",
   "metadata": {},
   "outputs": [],
   "source": []
  }
 ],
 "metadata": {
  "kernelspec": {
   "display_name": "Python 3 (ipykernel)",
   "language": "python",
   "name": "python3"
  },
  "language_info": {
   "codemirror_mode": {
    "name": "ipython",
    "version": 3
   },
   "file_extension": ".py",
   "mimetype": "text/x-python",
   "name": "python",
   "nbconvert_exporter": "python",
   "pygments_lexer": "ipython3",
   "version": "3.9.7"
  }
 },
 "nbformat": 4,
 "nbformat_minor": 5
}
